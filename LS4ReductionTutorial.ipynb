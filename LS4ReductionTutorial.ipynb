{
 "cells": [
  {
   "cell_type": "markdown",
   "id": "8e47fa6c-76b0-4acf-8a6b-63205273e4a0",
   "metadata": {},
   "source": [
    "# LS4 Image Reduction Tutorial"
   ]
  },
  {
   "cell_type": "code",
   "execution_count": 1,
   "id": "81b04465-fe81-42aa-b0cf-f92503f78168",
   "metadata": {},
   "outputs": [],
   "source": [
    "# in-built\n",
    "import os, glob\n",
    "\n",
    "# standard\n",
    "\n",
    "import numpy as np\n",
    "import matplotlib.pyplot as plt\n",
    "import matplotlib.patches as patches\n",
    "from scipy import stats\n",
    "from scipy.optimize import curve_fit\n",
    "\n",
    "# specialty\n",
    "\n",
    "from astropy.io import fits\n",
    "import ls4reduce as ls4\n",
    "#import sep\n",
    "\n",
    "# magic\n",
    "%matplotlib inline\n",
    "%config InlineBackend.figure_format='retina'"
   ]
  },
  {
   "cell_type": "markdown",
   "id": "54f7bcdf-6ec2-471e-9a3d-85e66942a935",
   "metadata": {},
   "source": [
    "## 1. Overscan subtraction\n",
    "\n",
    "Suppose that we have a list of compressed FITS images (.fz) at a certain exposure time. To start reducing the image, use the overscan subtraction function first."
   ]
  },
  {
   "cell_type": "code",
   "execution_count": null,
   "id": "91dec975-2a7f-40f0-a4bd-2a3d9bdea55d",
   "metadata": {},
   "outputs": [],
   "source": [
    "darks0s = glob.glob('LS4Darks/darks_0s_*.fz') # make a list of the raw images at a single exposure time\n",
    "for x in range(0,len(darks0s)):\n",
    "    ls4.overscanSubtraction(darks0s[x], 2, 'LS4Darks')\n",
    "    ls4.overscanSubtraction(darks0s[x], 3, 'LS4Darks')"
   ]
  },
  {
   "cell_type": "markdown",
   "id": "79c28906-49c1-4168-a392-5b0fa6da7084",
   "metadata": {},
   "source": [
    "This function takes the filelist at a single exposure time, the extension number, and an output directory."
   ]
  },
  {
   "cell_type": "markdown",
   "id": "0b6c4576-3b6f-4197-bda7-deee8ddeb9f0",
   "metadata": {},
   "source": [
    "## 2. Generate superbias\n",
    "\n",
    "Next, use the makeSuperbias function to create the superbias frame for each extension, for each exposure time."
   ]
  },
  {
   "cell_type": "code",
   "execution_count": null,
   "id": "3ccd1594-658f-4ae1-accd-758599179a55",
   "metadata": {},
   "outputs": [],
   "source": [
    "darks0s_os_2 = glob.glob('LS4Darks/darks_0s_*2.fits')\n",
    "darks0s_os_3 = glob.glob('LS4Darks/darks_0s_*3.fits')\n",
    "\n",
    "ls4.makeSuperbias(darks0s_os_2, 'LS4Darks/superbias_2.fits')\n",
    "ls4.makeSuperbias(darks0s_os_3, 'LS4Darks/superbias_3.fits')"
   ]
  },
  {
   "cell_type": "markdown",
   "id": "564af3d5-b30a-4a7e-84c3-a5b8186f7568",
   "metadata": {},
   "source": [
    "This function takes the filelist at a single exposure time at a single extension and the destination of the superbias frame. You need to specify the filename with a .fits extension."
   ]
  },
  {
   "cell_type": "markdown",
   "id": "ef21d7d5-f4f6-4725-a63d-20a3514c0d8a",
   "metadata": {},
   "source": [
    "## 3. Subtract superbias\n",
    "\n",
    "Subtract the respective superbias frame from each image that has been overscan subtracted."
   ]
  },
  {
   "cell_type": "code",
   "execution_count": null,
   "id": "50f69955-7137-40e7-84b1-7574f827a62a",
   "metadata": {},
   "outputs": [],
   "source": [
    "# Superbias for amps 2 and 3\n",
    "superbias_2 = 'LS4Darks/superbias_2.fits'\n",
    "superbias_3 = 'LS4Darks/superbias_3.fits'\n",
    "\n",
    "ls4.biasSubtraction(darks0s_os_2, superbias_2)\n",
    "ls4.biasSubtraction(darks0s_os_3, superbias_3)"
   ]
  },
  {
   "cell_type": "markdown",
   "id": "6eacb0f6-6fe6-46df-a116-9edbf9b68b73",
   "metadata": {},
   "source": [
    "This function takes the same filelist as the one for generating the superbias frames and the path to the superbias FITS image itself. \n",
    "\n",
    "To be implemented: make destination of output specifiable"
   ]
  },
  {
   "cell_type": "markdown",
   "id": "3e92e272-a888-4190-b99e-d3c97b362e10",
   "metadata": {},
   "source": [
    "## 4. Merge amps\n",
    "\n",
    "Stitch together the readouts from the two amps by flipping the x-axis of extension 3 and combining with extension 2 using `mergeAmps`."
   ]
  },
  {
   "cell_type": "code",
   "execution_count": null,
   "id": "cad2933d-3c18-41e8-b671-fbb87bf950e4",
   "metadata": {},
   "outputs": [],
   "source": [
    "ls4.mergeAmps(sorted(glob.glob('LS4Darks/bs_darks_0s_*2.fits')), sorted(glob.glob('LS4Darks/bs_darks_0s_*3.fits')))"
   ]
  },
  {
   "cell_type": "markdown",
   "id": "7cbf93ae-08f2-4f71-9c37-2e52d10fc44f",
   "metadata": {},
   "source": [
    "This function takes a filelist of bias subtracted images at extension 2 and 3. The order of the filelist is important because they must correspond to each other for the merging of amps to correspond to its counterpart. Using `sorted` around the filelists is probably best here."
   ]
  },
  {
   "cell_type": "markdown",
   "id": "02ff9a6f-e1b8-482d-9dac-655b6068c331",
   "metadata": {},
   "source": [
    "# Computing Gain\n",
    "\n",
    "For x-ray exposed images, the first step to computing gain is extracting and computing the flux of the sources in the image. Use `computeFlux` to do these two steps."
   ]
  },
  {
   "cell_type": "code",
   "execution_count": null,
   "id": "a6103bbd-0930-44f6-963f-20193e6facb5",
   "metadata": {},
   "outputs": [],
   "source": [
    "darks0s_fluxes = ls4.computeFlux(glob.glob('LS4Darks/merged*.fits'), 700, 5.0, False)"
   ]
  },
  {
   "cell_type": "markdown",
   "id": "594457fe-fa15-4a32-934a-9334cf82747d",
   "metadata": {},
   "source": [
    "This function takes in a filelist of reduced merged FITS image files, a pixel value threshold from which to extract, a radius for doing photometry, and a boolean for whether a ds9 regions file is to be generated for convenience. The output is a list of 1D numpy arrays of extracted flux values."
   ]
  },
  {
   "cell_type": "code",
   "execution_count": null,
   "id": "9350d35c-8496-4b13-9c4e-a75de0bea432",
   "metadata": {},
   "outputs": [],
   "source": [
    "gain = ls4.computeGain(darks0s_fluxes, 800, (0,100000), True)"
   ]
  },
  {
   "cell_type": "markdown",
   "id": "b91242ec-b72a-4626-bbb6-bfc97916c24a",
   "metadata": {},
   "source": [
    "Using the `computeGain` function, we can take our list of 1D numpy arrays from `computeFlux` and generate a histogram fitted to a double Gaussian to compute the actual gain value. The second argument is the number of bins for the histogram, the third argument is the range of the histogram, and the boolean is for whether you desire to have output plots."
   ]
  },
  {
   "cell_type": "markdown",
   "id": "2fe777e1-5718-4613-8449-989d53070ec5",
   "metadata": {},
   "source": [
    "# Computing Read Noise\n",
    "\n",
    "Use `computeRN` to calculate the read noise of a list of raw images. The raw iamges are used for computing the read noise because we are interested in taking the overscan region data and median subtracting within the overscan region."
   ]
  },
  {
   "cell_type": "code",
   "execution_count": null,
   "id": "3fcaba96-928a-4c33-8891-575f9fdd6c26",
   "metadata": {},
   "outputs": [],
   "source": [
    "darks0s = np.array(['LS4Darks/darks_0s_2.fz'])\n",
    "computeRN(darks0s, 51.01813625)"
   ]
  },
  {
   "cell_type": "markdown",
   "id": "44e012de-0c93-4210-bd21-a8e2faf7d81b",
   "metadata": {},
   "source": [
    "This function takes a filelist of raw compressed FITS images and a float of the gain. The output is two normalized histograms (one for each extension) of the median-subtracted overscan region pixels. This is a Gaussian distribution and is fitted with a Gaussian. The read noise is the $\\sigma$ of the Gaussian divided by the gain."
   ]
  }
 ],
 "metadata": {
  "kernelspec": {
   "display_name": "Python 3",
   "language": "python",
   "name": "python3"
  },
  "language_info": {
   "codemirror_mode": {
    "name": "ipython",
    "version": 3
   },
   "file_extension": ".py",
   "mimetype": "text/x-python",
   "name": "python",
   "nbconvert_exporter": "python",
   "pygments_lexer": "ipython3",
   "version": "3.7.4"
  }
 },
 "nbformat": 4,
 "nbformat_minor": 5
}
